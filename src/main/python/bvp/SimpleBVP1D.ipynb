{
 "cells": [
  {
   "cell_type": "code",
   "execution_count": null,
   "metadata": {
    "collapsed": false
   },
   "outputs": [],
   "source": [
    "import numpy as np\n",
    "from plotly.offline import download_plotlyjs, init_notebook_mode, iplot\n",
    "from plotly.graph_objs import *\n",
    "init_notebook_mode()"
   ]
  },
  {
   "cell_type": "markdown",
   "metadata": {},
   "source": [
    "# Boundary Value Problem in 1D\n",
    "\n",
    "## The Strong Form\n",
    "\n",
    "Here I solve the following problem:\n",
    "\n",
    "$$\n",
    "\\frac{d^2u}{dx^2} + \\sin\\left(\\pi x\\right) = 0\n",
    "$$\n",
    "\n",
    "$$ u \\in \\left[0,1\\right] $$\n",
    "\n",
    "$$ u(0) = u(1) = 0 $$\n",
    "\n",
    "This is probably as simple as it gets! We can solve this analytically and get the solution\n",
    "\n",
    "$$u(x) = \\frac{\\sin\\left(\\pi x\\right)}{\\pi^2}$$\n",
    "\n",
    "## The Weak Form\n",
    "\n",
    "The above equations are the strong form of the problem, in order to get a finite element scheme, we need to find the weak form. For this we multiply the strong form with an arbitrary test function $v(x)$ and integrate over the whole domain $\\Omega = \\left[0,1\\right]$:\n",
    "\n",
    "$$\\int_\\Omega \\frac{d^2u(x)}{dx^2} v(x) dx = - \\int_\\Omega f(x) v(x) dx$$\n",
    "\n",
    "with $f(x) = \\sin\\left(\\pi x\\right)$.\n",
    "\n",
    "Now we can use integration by parts to move one of the derivatives from $u(x)$ to $v(x)$ to arrive at the weak form:\n",
    "\n",
    "$$\\left[\\frac{du(x)}{dx}v(x)\\right]_0^1 -  \\int_\\Omega \\frac{du(x)}{dx} \\frac{dv(x)}{dx} dx = - \\int_\\Omega f(x) v(x) dx$$\n",
    "\n",
    "The first term is the boundary term comming out of the integration by parts. As we do have Dirichilet boundary conditions we require all our test functions $v(x)$ to satisfy the boundary conditions $v(0) = v(1) = 0$. This makes the first term zero and we get (using $u^\\prime = \\frac{du(x)}{dx}$):\n",
    "\n",
    "$$\\int_\\Omega u^\\prime v^\\prime dx = \\int_\\Omega fvdx$$\n",
    "\n",
    "## The Basis Functions\n",
    "\n",
    "We will approximate (project) the true solution $u(x)$, which is an infintely dimensional function, onto a finite dimensional function space $\\Phi$. We construct this function space from piecewise linear basis functions $\\phi_i(x)$. \n",
    "\n",
    "Let's first split the domain of the problem into $n$ elements:"
   ]
  },
  {
   "cell_type": "code",
   "execution_count": null,
   "metadata": {
    "collapsed": false
   },
   "outputs": [],
   "source": [
    "n = 3\n",
    "xnodes = np.linspace(0, 1, n+1)"
   ]
  },
  {
   "cell_type": "markdown",
   "metadata": {},
   "source": [
    "Now we construct for each of these elements a basis function\n",
    "\n",
    "$$\\phi_i(x) = \\frac{x -x_{i-1}}{x_{i}-x_{i-1}}\\quad\\quad x_{i-1} \\lt x \\le x_{i}$$ \n",
    "\n",
    "$$\\phi_i(x) = \\frac{x_{i+1} -x}{x_{i+1}-x_{i}}\\quad\\quad x_{i} \\lt x \\le x_{i+1}$$\n",
    "\n",
    "for all other $x$ the function is 0.\n",
    "\n",
    "This is a funciton that creates hat functions and we use it to create our basise\n",
    "\n"
   ]
  },
  {
   "cell_type": "code",
   "execution_count": null,
   "metadata": {
    "collapsed": false
   },
   "outputs": [],
   "source": [
    "def createHatFunction(i, n, xnodes):\n",
    "    phi = (lambda x : (x- xnodes[i-1])/(xnodes[i]-xnodes[i-1]) if (x > xnodes[i-1]) and (x <= xnodes[i])else ( xnodes[i+1] - x)/(xnodes[i+1]-xnodes[i])if (x>=xnodes[i]) and (x < xnodes[i+1])\n",
    "           else 0)\n",
    "    return phi\n",
    "\n",
    "basis = []\n",
    "for i in range(0,n+1):\n",
    "    basis.append(createHatFunction(i, n, xnodes))\n"
   ]
  },
  {
   "cell_type": "markdown",
   "metadata": {},
   "source": [
    "If we have $n$ elements we need a $n+1$ dimensional basis.\n",
    "\n",
    "Let's plot the basis functions over the domain:"
   ]
  },
  {
   "cell_type": "code",
   "execution_count": null,
   "metadata": {
    "collapsed": false
   },
   "outputs": [],
   "source": [
    "data = []\n",
    "domain = np.linspace(0, 1, 100)\n",
    "i = 0\n",
    "for phi in basis:\n",
    "    data.append(Scatter(x=domain, y =[phi(x) for x in domain], name=\"phi %d\"%i))\n",
    "    i = i + 1\n",
    "iplot(data)"
   ]
  },
  {
   "cell_type": "markdown",
   "metadata": {},
   "source": [
    "In order to satisfy the boundary conditions we have to remove $\\phi_0$ and $\\phi_3$ from our basis."
   ]
  },
  {
   "cell_type": "code",
   "execution_count": null,
   "metadata": {
    "collapsed": false
   },
   "outputs": [],
   "source": [
    "basis = [createHatFunction(1, n, xnodes), createHatFunction(2, n, xnodes)]"
   ]
  },
  {
   "cell_type": "markdown",
   "metadata": {},
   "source": [
    "## Building the Stiffness Matrix\n",
    "\n",
    "So with our basis functions we approximate the $u(x) \\approx U(x) = a_1\\phi_1(x) + a_2\\phi_2(x)$. When we insert this into our weak formulation we get:\n",
    "\n",
    "$$\\int_\\Omega \\left( a_1\\phi^\\prime_1(x) + a_2\\phi^\\prime_2(x)\\right)v^\\prime(x)dx = \\int_\\Omega f v(x) dx$$\n",
    "\n",
    "Which means we have one equation and two unknowns! In order to get the two equations that we need to get a determined system, we use the two basis functions for $v(x)$ so that we get:\n",
    "\n",
    "$$\\int_\\Omega \\left( a_1\\phi^\\prime_1(x) + a_2\\phi^\\prime_2(x)\\right)\\phi_1^\\prime(x)dx = \\int_\\Omega f \\phi_1^\\prime(x) dx$$\n",
    "$$\\int_\\Omega \\left( a_1\\phi^\\prime_1(x) + a_2\\phi^\\prime_2(x)\\right)\\phi_2^\\prime(x)dx = \\int_\\Omega f \\phi_2^\\prime(x) dx$$\n"
   ]
  },
  {
   "cell_type": "markdown",
   "metadata": {},
   "source": [
    "## Basis Functions: The Element View\n",
    "\n",
    "Previously we have viewed the basis functions on the full domain of the problem. The variable $x$ we used there is called the _global_ variable. But it is advantageous to move to an element centric view. For this we split the domain into elements and using a variable transformation we have each element sit between -1 and 1. These are called the _natural_ variables.\n",
    "\n",
    "So assuming we have the nodes in global variables $x_1, x_2, \\dots x_n$, we define the natural variable for the element from $x_i$ to $x_{j}$ ($x_j > x_i$):\n",
    "\n",
    "$$\\xi(x) = \\frac{2x - x_i - x_{j}}{x_{j} - x_i}$$\n",
    "\n",
    "Note that $x_i$ does not need to be adjacent to $x_j$: how many nodes we have in an element depends on the order of the interpolation polynomial! For linear hat functions we have indeed $x_j = x_{i+1}$, so we just have two nodes to an element.\n",
    "\n",
    "Note that we have\n",
    "\n",
    "$$\\xi(x_i) = -1$$\n",
    "$$\\xi(x_j) = +1$$\n",
    "\n",
    "Now we can formulate our hat functions in natural variables:\n",
    "\n",
    "$$\\phi_1(\\xi) = \\frac{1}{2}\\left(1-\\xi\\right)$$\n",
    "$$\\phi_2(\\xi) = \\frac{1}{2}\\left(1+\\xi\\right)$$\n",
    "\n",
    "Note that $\\phi_1(-1) = 1$ and $\\phi_2(+1) = 1$ while the basis functions on the other node are zero.\n",
    "\n",
    "_This is common to all basis functions: We have as many basis functions as we have nodes in each element and each basis function is 1 at just one node, 0 at all others_"
   ]
  },
  {
   "cell_type": "code",
   "execution_count": null,
   "metadata": {
    "collapsed": false
   },
   "outputs": [],
   "source": [
    "# cubic functions in natural coordinates\n",
    "phi1 = (lambda xi : -0.5*xi*(1.0-xi))\n",
    "phi2 = (lambda xi : +0.5*xi*(1.0+xi))\n",
    "phi3 = (lambda xi : (1.0-xi)*(1.0+xi))\n"
   ]
  },
  {
   "cell_type": "code",
   "execution_count": null,
   "metadata": {
    "collapsed": false
   },
   "outputs": [],
   "source": [
    "domain = np.linspace(-1, 1, 100)\n",
    "data = []\n",
    "data.append(Scatter(x=domain, y=[phi1(x) for x in domain], name=\"Phi 1\"))\n",
    "data.append(Scatter(x=domain, y=[phi2(x) for x in domain], name=\"Phi 2\"))\n",
    "data.append(Scatter(x=domain, y=[phi3(x) for x in domain], name=\"Phi 3\"))\n",
    "iplot(data)"
   ]
  },
  {
   "cell_type": "code",
   "execution_count": null,
   "metadata": {
    "collapsed": true
   },
   "outputs": [],
   "source": []
  }
 ],
 "metadata": {
  "anaconda-cloud": {},
  "kernelspec": {
   "display_name": "Python 3",
   "language": "python",
   "name": "python3"
  },
  "language_info": {
   "codemirror_mode": {
    "name": "ipython",
    "version": 3
   },
   "file_extension": ".py",
   "mimetype": "text/x-python",
   "name": "python",
   "nbconvert_exporter": "python",
   "pygments_lexer": "ipython3",
   "version": "3.5.1"
  }
 },
 "nbformat": 4,
 "nbformat_minor": 1
}
